{
  "nbformat": 4,
  "nbformat_minor": 0,
  "metadata": {
    "colab": {
      "name": "KMeans_Clustering_Internshala.ipynb",
      "provenance": []
    },
    "kernelspec": {
      "name": "python3",
      "display_name": "Python 3"
    },
    "language_info": {
      "name": "python"
    }
  },
  "cells": [
    {
      "cell_type": "code",
      "metadata": {
        "id": "QUsZJN0jxTfe"
      },
      "source": [
        "import numpy as np\n",
        "import pandas as pd\n",
        "import matplotlib.pyplot as plt"
      ],
      "execution_count": null,
      "outputs": []
    },
    {
      "cell_type": "code",
      "metadata": {
        "id": "SvI0M7goxlgi"
      },
      "source": [
        "data = pd.read_csv('/content/Population_Data.csv')"
      ],
      "execution_count": null,
      "outputs": []
    },
    {
      "cell_type": "code",
      "metadata": {
        "colab": {
          "base_uri": "https://localhost:8080/",
          "height": 343
        },
        "id": "d4NTaVShxwHB",
        "outputId": "e2ac9416-e471-4ad2-8fe1-524702161429"
      },
      "source": [
        "data.head()"
      ],
      "execution_count": null,
      "outputs": [
        {
          "output_type": "execute_result",
          "data": {
            "text/html": [
              "<div>\n",
              "<style scoped>\n",
              "    .dataframe tbody tr th:only-of-type {\n",
              "        vertical-align: middle;\n",
              "    }\n",
              "\n",
              "    .dataframe tbody tr th {\n",
              "        vertical-align: top;\n",
              "    }\n",
              "\n",
              "    .dataframe thead th {\n",
              "        text-align: right;\n",
              "    }\n",
              "</style>\n",
              "<table border=\"1\" class=\"dataframe\">\n",
              "  <thead>\n",
              "    <tr style=\"text-align: right;\">\n",
              "      <th></th>\n",
              "      <th>Region</th>\n",
              "      <th>Office Location Id</th>\n",
              "      <th>Indians</th>\n",
              "      <th>Foreigners</th>\n",
              "      <th>Indian_Male</th>\n",
              "      <th>Indian_Female</th>\n",
              "      <th>Foreigners_Male</th>\n",
              "      <th>Foreigners_Female</th>\n",
              "      <th>Total Population</th>\n",
              "    </tr>\n",
              "  </thead>\n",
              "  <tbody>\n",
              "    <tr>\n",
              "      <th>0</th>\n",
              "      <td>Region 31</td>\n",
              "      <td>1</td>\n",
              "      <td>6,43,596</td>\n",
              "      <td>28,83,782</td>\n",
              "      <td>4,40,445</td>\n",
              "      <td>2,03,151</td>\n",
              "      <td>27,63,718</td>\n",
              "      <td>72,515</td>\n",
              "      <td>35,27,378</td>\n",
              "    </tr>\n",
              "    <tr>\n",
              "      <th>1</th>\n",
              "      <td>Region 17</td>\n",
              "      <td>9</td>\n",
              "      <td>3,19,933</td>\n",
              "      <td>15,01,899</td>\n",
              "      <td>2,13,477</td>\n",
              "      <td>1,06,456</td>\n",
              "      <td>14,49,303</td>\n",
              "      <td>27,671</td>\n",
              "      <td>1821832</td>\n",
              "    </tr>\n",
              "    <tr>\n",
              "      <th>2</th>\n",
              "      <td>Region 12</td>\n",
              "      <td>4</td>\n",
              "      <td>1,94,379</td>\n",
              "      <td>6,50,744</td>\n",
              "      <td>1,61,803</td>\n",
              "      <td>32,576</td>\n",
              "      <td>6,31,660</td>\n",
              "      <td>10,652</td>\n",
              "      <td>845123</td>\n",
              "    </tr>\n",
              "    <tr>\n",
              "      <th>3</th>\n",
              "      <td>Region 22</td>\n",
              "      <td>15</td>\n",
              "      <td>1,07,360</td>\n",
              "      <td>4,70,708</td>\n",
              "      <td>85,343</td>\n",
              "      <td>22,017</td>\n",
              "      <td>4,50,267</td>\n",
              "      <td>6,389</td>\n",
              "      <td>578068</td>\n",
              "    </tr>\n",
              "    <tr>\n",
              "      <th>4</th>\n",
              "      <td>Region 23</td>\n",
              "      <td>13</td>\n",
              "      <td>55,351</td>\n",
              "      <td>3,29,980</td>\n",
              "      <td>31,796</td>\n",
              "      <td>23,555</td>\n",
              "      <td>3,25,105</td>\n",
              "      <td>3,684</td>\n",
              "      <td>385331</td>\n",
              "    </tr>\n",
              "  </tbody>\n",
              "</table>\n",
              "</div>"
            ],
            "text/plain": [
              "      Region  Office Location Id  ... Foreigners_Female Total Population\n",
              "0  Region 31                   1  ...            72,515        35,27,378\n",
              "1  Region 17                   9  ...            27,671          1821832\n",
              "2  Region 12                   4  ...            10,652           845123\n",
              "3  Region 22                  15  ...             6,389           578068\n",
              "4  Region 23                  13  ...             3,684           385331\n",
              "\n",
              "[5 rows x 9 columns]"
            ]
          },
          "metadata": {
            "tags": []
          },
          "execution_count": 3
        }
      ]
    },
    {
      "cell_type": "code",
      "metadata": {
        "colab": {
          "base_uri": "https://localhost:8080/"
        },
        "id": "bLMooZOwyTUy",
        "outputId": "912cd681-8ed0-4a84-9d8c-b4a6d3d963ce"
      },
      "source": [
        "data.info()"
      ],
      "execution_count": null,
      "outputs": [
        {
          "output_type": "stream",
          "text": [
            "<class 'pandas.core.frame.DataFrame'>\n",
            "RangeIndex: 38 entries, 0 to 37\n",
            "Data columns (total 9 columns):\n",
            " #   Column              Non-Null Count  Dtype \n",
            "---  ------              --------------  ----- \n",
            " 0   Region              38 non-null     object\n",
            " 1   Office Location Id  38 non-null     int64 \n",
            " 2   Indians             38 non-null     object\n",
            " 3   Foreigners          38 non-null     object\n",
            " 4   Indian_Male         38 non-null     object\n",
            " 5   Indian_Female       38 non-null     object\n",
            " 6   Foreigners_Male     38 non-null     object\n",
            " 7   Foreigners_Female   38 non-null     object\n",
            " 8   Total Population    38 non-null     object\n",
            "dtypes: int64(1), object(8)\n",
            "memory usage: 2.8+ KB\n"
          ],
          "name": "stdout"
        }
      ]
    },
    {
      "cell_type": "code",
      "metadata": {
        "id": "wFWnDjufyuCO"
      },
      "source": [
        "numeric = ['Indians','Foreigners','Indian_Male',\n",
        "           'Indian_Female','Foreigners_Female',\n",
        "           'Foreigners_Male','Total Population']"
      ],
      "execution_count": null,
      "outputs": []
    },
    {
      "cell_type": "code",
      "metadata": {
        "id": "YJjAHG5KzRfa"
      },
      "source": [
        "# defining a function for comma removal as python will see it as an object till comma is not removed.\n",
        "def cleaner(z):\n",
        "  return z.replace(',','')"
      ],
      "execution_count": null,
      "outputs": []
    },
    {
      "cell_type": "code",
      "metadata": {
        "id": "di0hASR8zaEz"
      },
      "source": [
        "for i in data[numeric]:\n",
        "  data[i] = data[i].apply(cleaner)"
      ],
      "execution_count": null,
      "outputs": []
    },
    {
      "cell_type": "code",
      "metadata": {
        "colab": {
          "base_uri": "https://localhost:8080/",
          "height": 343
        },
        "id": "-SF4ybPLzv3A",
        "outputId": "57ad0f62-249f-41e3-c578-5d30b9dc2df4"
      },
      "source": [
        "data.head()"
      ],
      "execution_count": null,
      "outputs": [
        {
          "output_type": "execute_result",
          "data": {
            "text/html": [
              "<div>\n",
              "<style scoped>\n",
              "    .dataframe tbody tr th:only-of-type {\n",
              "        vertical-align: middle;\n",
              "    }\n",
              "\n",
              "    .dataframe tbody tr th {\n",
              "        vertical-align: top;\n",
              "    }\n",
              "\n",
              "    .dataframe thead th {\n",
              "        text-align: right;\n",
              "    }\n",
              "</style>\n",
              "<table border=\"1\" class=\"dataframe\">\n",
              "  <thead>\n",
              "    <tr style=\"text-align: right;\">\n",
              "      <th></th>\n",
              "      <th>Region</th>\n",
              "      <th>Office Location Id</th>\n",
              "      <th>Indians</th>\n",
              "      <th>Foreigners</th>\n",
              "      <th>Indian_Male</th>\n",
              "      <th>Indian_Female</th>\n",
              "      <th>Foreigners_Male</th>\n",
              "      <th>Foreigners_Female</th>\n",
              "      <th>Total Population</th>\n",
              "    </tr>\n",
              "  </thead>\n",
              "  <tbody>\n",
              "    <tr>\n",
              "      <th>0</th>\n",
              "      <td>Region 31</td>\n",
              "      <td>1</td>\n",
              "      <td>643596</td>\n",
              "      <td>2883782</td>\n",
              "      <td>440445</td>\n",
              "      <td>203151</td>\n",
              "      <td>2763718</td>\n",
              "      <td>72515</td>\n",
              "      <td>3527378</td>\n",
              "    </tr>\n",
              "    <tr>\n",
              "      <th>1</th>\n",
              "      <td>Region 17</td>\n",
              "      <td>9</td>\n",
              "      <td>319933</td>\n",
              "      <td>1501899</td>\n",
              "      <td>213477</td>\n",
              "      <td>106456</td>\n",
              "      <td>1449303</td>\n",
              "      <td>27671</td>\n",
              "      <td>1821832</td>\n",
              "    </tr>\n",
              "    <tr>\n",
              "      <th>2</th>\n",
              "      <td>Region 12</td>\n",
              "      <td>4</td>\n",
              "      <td>194379</td>\n",
              "      <td>650744</td>\n",
              "      <td>161803</td>\n",
              "      <td>32576</td>\n",
              "      <td>631660</td>\n",
              "      <td>10652</td>\n",
              "      <td>845123</td>\n",
              "    </tr>\n",
              "    <tr>\n",
              "      <th>3</th>\n",
              "      <td>Region 22</td>\n",
              "      <td>15</td>\n",
              "      <td>107360</td>\n",
              "      <td>470708</td>\n",
              "      <td>85343</td>\n",
              "      <td>22017</td>\n",
              "      <td>450267</td>\n",
              "      <td>6389</td>\n",
              "      <td>578068</td>\n",
              "    </tr>\n",
              "    <tr>\n",
              "      <th>4</th>\n",
              "      <td>Region 23</td>\n",
              "      <td>13</td>\n",
              "      <td>55351</td>\n",
              "      <td>329980</td>\n",
              "      <td>31796</td>\n",
              "      <td>23555</td>\n",
              "      <td>325105</td>\n",
              "      <td>3684</td>\n",
              "      <td>385331</td>\n",
              "    </tr>\n",
              "  </tbody>\n",
              "</table>\n",
              "</div>"
            ],
            "text/plain": [
              "      Region  Office Location Id  ... Foreigners_Female Total Population\n",
              "0  Region 31                   1  ...             72515          3527378\n",
              "1  Region 17                   9  ...             27671          1821832\n",
              "2  Region 12                   4  ...             10652           845123\n",
              "3  Region 22                  15  ...              6389           578068\n",
              "4  Region 23                  13  ...              3684           385331\n",
              "\n",
              "[5 rows x 9 columns]"
            ]
          },
          "metadata": {
            "tags": []
          },
          "execution_count": 11
        }
      ]
    },
    {
      "cell_type": "code",
      "metadata": {
        "colab": {
          "base_uri": "https://localhost:8080/"
        },
        "id": "1o1gdmkTzzAc",
        "outputId": "0908b2fe-b20f-4ba3-d55b-6e98bb1d997b"
      },
      "source": [
        "data.info()"
      ],
      "execution_count": null,
      "outputs": [
        {
          "output_type": "stream",
          "text": [
            "<class 'pandas.core.frame.DataFrame'>\n",
            "RangeIndex: 38 entries, 0 to 37\n",
            "Data columns (total 9 columns):\n",
            " #   Column              Non-Null Count  Dtype \n",
            "---  ------              --------------  ----- \n",
            " 0   Region              38 non-null     object\n",
            " 1   Office Location Id  38 non-null     int64 \n",
            " 2   Indians             38 non-null     object\n",
            " 3   Foreigners          38 non-null     object\n",
            " 4   Indian_Male         38 non-null     object\n",
            " 5   Indian_Female       38 non-null     object\n",
            " 6   Foreigners_Male     38 non-null     object\n",
            " 7   Foreigners_Female   38 non-null     object\n",
            " 8   Total Population    38 non-null     object\n",
            "dtypes: int64(1), object(8)\n",
            "memory usage: 2.8+ KB\n"
          ],
          "name": "stdout"
        }
      ]
    },
    {
      "cell_type": "code",
      "metadata": {
        "colab": {
          "base_uri": "https://localhost:8080/"
        },
        "id": "iq8gpg3o0HKn",
        "outputId": "8edfe9ba-0fe5-4c27-eba3-16e31b4826d6"
      },
      "source": [
        "data[numeric] = data[numeric].apply(pd.to_numeric)\n",
        "data.info()"
      ],
      "execution_count": null,
      "outputs": [
        {
          "output_type": "stream",
          "text": [
            "<class 'pandas.core.frame.DataFrame'>\n",
            "RangeIndex: 38 entries, 0 to 37\n",
            "Data columns (total 9 columns):\n",
            " #   Column              Non-Null Count  Dtype \n",
            "---  ------              --------------  ----- \n",
            " 0   Region              38 non-null     object\n",
            " 1   Office Location Id  38 non-null     int64 \n",
            " 2   Indians             38 non-null     int64 \n",
            " 3   Foreigners          38 non-null     int64 \n",
            " 4   Indian_Male         38 non-null     int64 \n",
            " 5   Indian_Female       38 non-null     int64 \n",
            " 6   Foreigners_Male     38 non-null     int64 \n",
            " 7   Foreigners_Female   38 non-null     int64 \n",
            " 8   Total Population    38 non-null     int64 \n",
            "dtypes: int64(8), object(1)\n",
            "memory usage: 2.8+ KB\n"
          ],
          "name": "stdout"
        }
      ]
    },
    {
      "cell_type": "markdown",
      "metadata": {
        "id": "Ebx5vJrzu4xH"
      },
      "source": [
        "Now We Apply Feature Scaling:-  "
      ]
    },
    {
      "cell_type": "code",
      "metadata": {
        "colab": {
          "base_uri": "https://localhost:8080/"
        },
        "id": "3hspYNaw0XLe",
        "outputId": "24d09c56-e5e3-4b15-f8e4-e4d5805963ac"
      },
      "source": [
        "# now we will verify integrity of the data.\n",
        "# a simple integrity test here would be that a sum of india and foreigners population should add upto total population.\n",
        "data[['Indians','Foreigners']].sum().sum() - data['Total Population'].sum()"
      ],
      "execution_count": null,
      "outputs": [
        {
          "output_type": "execute_result",
          "data": {
            "text/plain": [
              "0"
            ]
          },
          "metadata": {
            "tags": []
          },
          "execution_count": 14
        }
      ]
    },
    {
      "cell_type": "code",
      "metadata": {
        "colab": {
          "base_uri": "https://localhost:8080/"
        },
        "id": "dbmoA08h1OOG",
        "outputId": "53b4d9d9-9aa8-4743-962e-28438dd38105"
      },
      "source": [
        "data[['Indian_Male','Indian_Female','Foreigners_Male','Foreigners_Female']].sum().sum() - data['Total Population'].sum()\n",
        "# this result means, there are people in the column who donot identify themselves as male or female.\n",
        "# Here negative value means, it means Total population is greater than sum of the no. of males amd no. of females"
      ],
      "execution_count": null,
      "outputs": [
        {
          "output_type": "execute_result",
          "data": {
            "text/plain": [
              "-112859"
            ]
          },
          "metadata": {
            "tags": []
          },
          "execution_count": 15
        }
      ]
    },
    {
      "cell_type": "code",
      "metadata": {
        "colab": {
          "base_uri": "https://localhost:8080/",
          "height": 343
        },
        "id": "5QYiJo-p1zGW",
        "outputId": "9643ac5d-b190-4e4b-bae2-5d8decedbee2"
      },
      "source": [
        "MF_sum = data['Indian_Male'] + data['Indian_Female']+ data['Foreigners_Female'] + data['Foreigners_Male']\n",
        "data['other'] = data['Total Population'] - MF_sum\n",
        "data.head()\n",
        "# Here it means, who donot identify others as male and female."
      ],
      "execution_count": null,
      "outputs": [
        {
          "output_type": "execute_result",
          "data": {
            "text/html": [
              "<div>\n",
              "<style scoped>\n",
              "    .dataframe tbody tr th:only-of-type {\n",
              "        vertical-align: middle;\n",
              "    }\n",
              "\n",
              "    .dataframe tbody tr th {\n",
              "        vertical-align: top;\n",
              "    }\n",
              "\n",
              "    .dataframe thead th {\n",
              "        text-align: right;\n",
              "    }\n",
              "</style>\n",
              "<table border=\"1\" class=\"dataframe\">\n",
              "  <thead>\n",
              "    <tr style=\"text-align: right;\">\n",
              "      <th></th>\n",
              "      <th>Region</th>\n",
              "      <th>Office Location Id</th>\n",
              "      <th>Indians</th>\n",
              "      <th>Foreigners</th>\n",
              "      <th>Indian_Male</th>\n",
              "      <th>Indian_Female</th>\n",
              "      <th>Foreigners_Male</th>\n",
              "      <th>Foreigners_Female</th>\n",
              "      <th>Total Population</th>\n",
              "      <th>other</th>\n",
              "    </tr>\n",
              "  </thead>\n",
              "  <tbody>\n",
              "    <tr>\n",
              "      <th>0</th>\n",
              "      <td>Region 31</td>\n",
              "      <td>1</td>\n",
              "      <td>643596</td>\n",
              "      <td>2883782</td>\n",
              "      <td>440445</td>\n",
              "      <td>203151</td>\n",
              "      <td>2763718</td>\n",
              "      <td>72515</td>\n",
              "      <td>3527378</td>\n",
              "      <td>47549</td>\n",
              "    </tr>\n",
              "    <tr>\n",
              "      <th>1</th>\n",
              "      <td>Region 17</td>\n",
              "      <td>9</td>\n",
              "      <td>319933</td>\n",
              "      <td>1501899</td>\n",
              "      <td>213477</td>\n",
              "      <td>106456</td>\n",
              "      <td>1449303</td>\n",
              "      <td>27671</td>\n",
              "      <td>1821832</td>\n",
              "      <td>24925</td>\n",
              "    </tr>\n",
              "    <tr>\n",
              "      <th>2</th>\n",
              "      <td>Region 12</td>\n",
              "      <td>4</td>\n",
              "      <td>194379</td>\n",
              "      <td>650744</td>\n",
              "      <td>161803</td>\n",
              "      <td>32576</td>\n",
              "      <td>631660</td>\n",
              "      <td>10652</td>\n",
              "      <td>845123</td>\n",
              "      <td>8432</td>\n",
              "    </tr>\n",
              "    <tr>\n",
              "      <th>3</th>\n",
              "      <td>Region 22</td>\n",
              "      <td>15</td>\n",
              "      <td>107360</td>\n",
              "      <td>470708</td>\n",
              "      <td>85343</td>\n",
              "      <td>22017</td>\n",
              "      <td>450267</td>\n",
              "      <td>6389</td>\n",
              "      <td>578068</td>\n",
              "      <td>14052</td>\n",
              "    </tr>\n",
              "    <tr>\n",
              "      <th>4</th>\n",
              "      <td>Region 23</td>\n",
              "      <td>13</td>\n",
              "      <td>55351</td>\n",
              "      <td>329980</td>\n",
              "      <td>31796</td>\n",
              "      <td>23555</td>\n",
              "      <td>325105</td>\n",
              "      <td>3684</td>\n",
              "      <td>385331</td>\n",
              "      <td>1191</td>\n",
              "    </tr>\n",
              "  </tbody>\n",
              "</table>\n",
              "</div>"
            ],
            "text/plain": [
              "      Region  Office Location Id  ...  Total Population  other\n",
              "0  Region 31                   1  ...           3527378  47549\n",
              "1  Region 17                   9  ...           1821832  24925\n",
              "2  Region 12                   4  ...            845123   8432\n",
              "3  Region 22                  15  ...            578068  14052\n",
              "4  Region 23                  13  ...            385331   1191\n",
              "\n",
              "[5 rows x 10 columns]"
            ]
          },
          "metadata": {
            "tags": []
          },
          "execution_count": 16
        }
      ]
    },
    {
      "cell_type": "code",
      "metadata": {
        "colab": {
          "base_uri": "https://localhost:8080/"
        },
        "id": "i98vNZCJ3eIQ",
        "outputId": "433c1e43-4a91-4de6-ee9a-073177244ae3"
      },
      "source": [
        "data['Region'].nunique(), data['Office Location Id'].nunique()"
      ],
      "execution_count": null,
      "outputs": [
        {
          "output_type": "execute_result",
          "data": {
            "text/plain": [
              "(38, 38)"
            ]
          },
          "metadata": {
            "tags": []
          },
          "execution_count": 18
        }
      ]
    },
    {
      "cell_type": "code",
      "metadata": {
        "colab": {
          "base_uri": "https://localhost:8080/",
          "height": 222
        },
        "id": "Q_QsWfuO370z",
        "outputId": "998670d1-8c3f-4762-8ba6-8b0b3fd7ee03"
      },
      "source": [
        "# there's no similiarity between any two regions or office-location id, as all values are unique, therfore we are gonna drop these two columns.\n",
        "# and also total population would be dropped\n",
        "data1 = data.drop(columns=['Region','Office Location Id','Total Population'])\n",
        "data1.head()"
      ],
      "execution_count": null,
      "outputs": [
        {
          "output_type": "execute_result",
          "data": {
            "text/html": [
              "<div>\n",
              "<style scoped>\n",
              "    .dataframe tbody tr th:only-of-type {\n",
              "        vertical-align: middle;\n",
              "    }\n",
              "\n",
              "    .dataframe tbody tr th {\n",
              "        vertical-align: top;\n",
              "    }\n",
              "\n",
              "    .dataframe thead th {\n",
              "        text-align: right;\n",
              "    }\n",
              "</style>\n",
              "<table border=\"1\" class=\"dataframe\">\n",
              "  <thead>\n",
              "    <tr style=\"text-align: right;\">\n",
              "      <th></th>\n",
              "      <th>Indians</th>\n",
              "      <th>Foreigners</th>\n",
              "      <th>Indian_Male</th>\n",
              "      <th>Indian_Female</th>\n",
              "      <th>Foreigners_Male</th>\n",
              "      <th>Foreigners_Female</th>\n",
              "      <th>other</th>\n",
              "    </tr>\n",
              "  </thead>\n",
              "  <tbody>\n",
              "    <tr>\n",
              "      <th>0</th>\n",
              "      <td>643596</td>\n",
              "      <td>2883782</td>\n",
              "      <td>440445</td>\n",
              "      <td>203151</td>\n",
              "      <td>2763718</td>\n",
              "      <td>72515</td>\n",
              "      <td>47549</td>\n",
              "    </tr>\n",
              "    <tr>\n",
              "      <th>1</th>\n",
              "      <td>319933</td>\n",
              "      <td>1501899</td>\n",
              "      <td>213477</td>\n",
              "      <td>106456</td>\n",
              "      <td>1449303</td>\n",
              "      <td>27671</td>\n",
              "      <td>24925</td>\n",
              "    </tr>\n",
              "    <tr>\n",
              "      <th>2</th>\n",
              "      <td>194379</td>\n",
              "      <td>650744</td>\n",
              "      <td>161803</td>\n",
              "      <td>32576</td>\n",
              "      <td>631660</td>\n",
              "      <td>10652</td>\n",
              "      <td>8432</td>\n",
              "    </tr>\n",
              "    <tr>\n",
              "      <th>3</th>\n",
              "      <td>107360</td>\n",
              "      <td>470708</td>\n",
              "      <td>85343</td>\n",
              "      <td>22017</td>\n",
              "      <td>450267</td>\n",
              "      <td>6389</td>\n",
              "      <td>14052</td>\n",
              "    </tr>\n",
              "    <tr>\n",
              "      <th>4</th>\n",
              "      <td>55351</td>\n",
              "      <td>329980</td>\n",
              "      <td>31796</td>\n",
              "      <td>23555</td>\n",
              "      <td>325105</td>\n",
              "      <td>3684</td>\n",
              "      <td>1191</td>\n",
              "    </tr>\n",
              "  </tbody>\n",
              "</table>\n",
              "</div>"
            ],
            "text/plain": [
              "   Indians  Foreigners  Indian_Male  ...  Foreigners_Male  Foreigners_Female  other\n",
              "0   643596     2883782       440445  ...          2763718              72515  47549\n",
              "1   319933     1501899       213477  ...          1449303              27671  24925\n",
              "2   194379      650744       161803  ...           631660              10652   8432\n",
              "3   107360      470708        85343  ...           450267               6389  14052\n",
              "4    55351      329980        31796  ...           325105               3684   1191\n",
              "\n",
              "[5 rows x 7 columns]"
            ]
          },
          "metadata": {
            "tags": []
          },
          "execution_count": 19
        }
      ]
    },
    {
      "cell_type": "markdown",
      "metadata": {
        "id": "CkJde88rxX1h"
      },
      "source": [
        "NORMALIZING:-"
      ]
    },
    {
      "cell_type": "code",
      "metadata": {
        "colab": {
          "base_uri": "https://localhost:8080/",
          "height": 222
        },
        "id": "eWNp7SNp5A15",
        "outputId": "cb8b9bf3-35b3-4688-914c-521358892a4d"
      },
      "source": [
        "# now we will normalize out dataset.\n",
        "from sklearn.preprocessing import Normalizer\n",
        "norm = Normalizer()                           # Instance of an normaliser\n",
        "columns = data1.columns\n",
        "data1 = norm.fit_transform(data1)\n",
        "\n",
        "data1 = pd.DataFrame(data1, columns=columns)\n",
        "data1.head()"
      ],
      "execution_count": null,
      "outputs": [
        {
          "output_type": "execute_result",
          "data": {
            "text/html": [
              "<div>\n",
              "<style scoped>\n",
              "    .dataframe tbody tr th:only-of-type {\n",
              "        vertical-align: middle;\n",
              "    }\n",
              "\n",
              "    .dataframe tbody tr th {\n",
              "        vertical-align: top;\n",
              "    }\n",
              "\n",
              "    .dataframe thead th {\n",
              "        text-align: right;\n",
              "    }\n",
              "</style>\n",
              "<table border=\"1\" class=\"dataframe\">\n",
              "  <thead>\n",
              "    <tr style=\"text-align: right;\">\n",
              "      <th></th>\n",
              "      <th>Indians</th>\n",
              "      <th>Foreigners</th>\n",
              "      <th>Indian_Male</th>\n",
              "      <th>Indian_Female</th>\n",
              "      <th>Foreigners_Male</th>\n",
              "      <th>Foreigners_Female</th>\n",
              "      <th>other</th>\n",
              "    </tr>\n",
              "  </thead>\n",
              "  <tbody>\n",
              "    <tr>\n",
              "      <th>0</th>\n",
              "      <td>0.157911</td>\n",
              "      <td>0.707555</td>\n",
              "      <td>0.108066</td>\n",
              "      <td>0.049844</td>\n",
              "      <td>0.678096</td>\n",
              "      <td>0.017792</td>\n",
              "      <td>0.011666</td>\n",
              "    </tr>\n",
              "    <tr>\n",
              "      <th>1</th>\n",
              "      <td>0.150537</td>\n",
              "      <td>0.706682</td>\n",
              "      <td>0.100446</td>\n",
              "      <td>0.050090</td>\n",
              "      <td>0.681934</td>\n",
              "      <td>0.013020</td>\n",
              "      <td>0.011728</td>\n",
              "    </tr>\n",
              "    <tr>\n",
              "      <th>2</th>\n",
              "      <td>0.206311</td>\n",
              "      <td>0.690691</td>\n",
              "      <td>0.171736</td>\n",
              "      <td>0.034576</td>\n",
              "      <td>0.670436</td>\n",
              "      <td>0.011306</td>\n",
              "      <td>0.008950</td>\n",
              "    </tr>\n",
              "    <tr>\n",
              "      <th>3</th>\n",
              "      <td>0.161150</td>\n",
              "      <td>0.706543</td>\n",
              "      <td>0.128102</td>\n",
              "      <td>0.033048</td>\n",
              "      <td>0.675861</td>\n",
              "      <td>0.009590</td>\n",
              "      <td>0.021092</td>\n",
              "    </tr>\n",
              "    <tr>\n",
              "      <th>4</th>\n",
              "      <td>0.118217</td>\n",
              "      <td>0.704763</td>\n",
              "      <td>0.067909</td>\n",
              "      <td>0.050308</td>\n",
              "      <td>0.694351</td>\n",
              "      <td>0.007868</td>\n",
              "      <td>0.002544</td>\n",
              "    </tr>\n",
              "  </tbody>\n",
              "</table>\n",
              "</div>"
            ],
            "text/plain": [
              "    Indians  Foreigners  ...  Foreigners_Female     other\n",
              "0  0.157911    0.707555  ...           0.017792  0.011666\n",
              "1  0.150537    0.706682  ...           0.013020  0.011728\n",
              "2  0.206311    0.690691  ...           0.011306  0.008950\n",
              "3  0.161150    0.706543  ...           0.009590  0.021092\n",
              "4  0.118217    0.704763  ...           0.007868  0.002544\n",
              "\n",
              "[5 rows x 7 columns]"
            ]
          },
          "metadata": {
            "tags": []
          },
          "execution_count": 20
        }
      ]
    },
    {
      "cell_type": "markdown",
      "metadata": {
        "id": "RiWQtLoU6Jaq"
      },
      "source": [
        "clustering phase"
      ]
    },
    {
      "cell_type": "code",
      "metadata": {
        "id": "Zo39O_SK6AtE"
      },
      "source": [
        "from sklearn.cluster import KMeans\n",
        "kmeans = KMeans(n_clusters = 2)\n",
        "kmeans.fit(data1)\n",
        "pred = kmeans.predict(data1)"
      ],
      "execution_count": null,
      "outputs": []
    },
    {
      "cell_type": "code",
      "metadata": {
        "colab": {
          "base_uri": "https://localhost:8080/"
        },
        "id": "d2JEzo-46oPi",
        "outputId": "2359fed5-bc6c-4cfb-91b9-651112ecabde"
      },
      "source": [
        "pred, len(pred)"
      ],
      "execution_count": null,
      "outputs": [
        {
          "output_type": "execute_result",
          "data": {
            "text/plain": [
              "(array([0, 0, 0, 0, 1, 0, 1, 1, 1, 1, 0, 1, 1, 1, 1, 0, 1, 1, 1, 1, 1, 1,\n",
              "        1, 1, 1, 1, 1, 1, 1, 1, 1, 1, 1, 1, 1, 0, 1, 1], dtype=int32), 38)"
            ]
          },
          "metadata": {
            "tags": []
          },
          "execution_count": 22
        }
      ]
    },
    {
      "cell_type": "code",
      "metadata": {
        "colab": {
          "base_uri": "https://localhost:8080/"
        },
        "id": "nOmuFpn967JA",
        "outputId": "d9a648aa-d9fb-4af8-a4a0-cf6777dc437d"
      },
      "source": [
        "kmeans.inertia_"
      ],
      "execution_count": null,
      "outputs": [
        {
          "output_type": "execute_result",
          "data": {
            "text/plain": [
              "0.02811328589882711"
            ]
          },
          "metadata": {
            "tags": []
          },
          "execution_count": 23
        }
      ]
    },
    {
      "cell_type": "code",
      "metadata": {
        "id": "NhrooxwS7Lhh"
      },
      "source": [
        "SSE = []    # Squared Sum of Error\n",
        "for cluster in range(1,10):\n",
        "  kmeans = KMeans(n_jobs=-1, n_clusters=cluster)\n",
        "  kmeans.fit(data1)\n",
        "  SSE.append(kmeans.inertia_)"
      ],
      "execution_count": null,
      "outputs": []
    },
    {
      "cell_type": "code",
      "metadata": {
        "id": "dZg-ApK47iVM"
      },
      "source": [
        "# now plotting the graph of number of clusters verses inertia.\n",
        "# note that, less inertia is good for the model.\n",
        "frame = pd.DataFrame({'cluster': range(1,10),'SSE':SSE})"
      ],
      "execution_count": null,
      "outputs": []
    },
    {
      "cell_type": "code",
      "metadata": {
        "colab": {
          "base_uri": "https://localhost:8080/",
          "height": 355
        },
        "id": "OYoD7VtP8hi2",
        "outputId": "edd219dc-a706-481e-c107-664a59a2607d"
      },
      "source": [
        "plt.figure(figsize = (12,6))\n",
        "plt.plot(frame['cluster'], frame['SSE'], marker='o')\n",
        "plt.xlabel('number of clusters')\n",
        "plt.ylabel('inertia')"
      ],
      "execution_count": null,
      "outputs": [
        {
          "output_type": "execute_result",
          "data": {
            "text/plain": [
              "Text(0, 0.5, 'inertia')"
            ]
          },
          "metadata": {
            "tags": []
          },
          "execution_count": 26
        },
        {
          "output_type": "display_data",
          "data": {
            "image/png": "[encoded data removed]",
            "text/plain": [
              "<Figure size 864x432 with 1 Axes>"
            ]
          },
          "metadata": {
            "tags": [],
            "needs_background": "light"
          }
        }
      ]
    },
    {
      "cell_type": "code",
      "metadata": {
        "id": "i2lW5suy8_gW"
      },
      "source": [
        "kmeans = KMeans(n_clusters=3)\n",
        "kmeans.fit(data1)\n",
        "pred = kmeans.predict(data1)"
      ],
      "execution_count": null,
      "outputs": []
    },
    {
      "cell_type": "code",
      "metadata": {
        "colab": {
          "base_uri": "https://localhost:8080/"
        },
        "id": "XTgCAUWn9aqw",
        "outputId": "49b5ba61-77aa-4e30-aeb2-0c6b3c606cf2"
      },
      "source": [
        "pred, len(pred)"
      ],
      "execution_count": null,
      "outputs": [
        {
          "output_type": "execute_result",
          "data": {
            "text/plain": [
              "(array([1, 1, 2, 2, 0, 2, 1, 1, 1, 1, 2, 0, 0, 0, 0, 1, 0, 1, 0, 0, 1, 0,\n",
              "        1, 0, 0, 0, 0, 0, 1, 1, 0, 0, 0, 0, 0, 1, 0, 0], dtype=int32), 38)"
            ]
          },
          "metadata": {
            "tags": []
          },
          "execution_count": 28
        }
      ]
    },
    {
      "cell_type": "code",
      "metadata": {
        "id": "Y-62JQk89jfi"
      },
      "source": [
        "data1['cluster'] = pred"
      ],
      "execution_count": null,
      "outputs": []
    },
    {
      "cell_type": "code",
      "metadata": {
        "id": "dO1yXn3Q9tH4"
      },
      "source": [
        "def seg(str_x, str_y, clusters):  # Seggregator\n",
        "  x = []\n",
        "  y = []\n",
        "  for i in range(clusters):\n",
        "    x.append(data1[str_x][data1['cluster']==i])\n",
        "    y.append(data1[str_y][data1['cluster']==i])\n",
        "  return x,y\n",
        "\n",
        "def plot_clusters(str_x, str_y, clusters):\n",
        "  plt.figure(figsize = (5,5), dpi=120)\n",
        "  x, y = seg(str_x, str_y, clusters)\n",
        "\n",
        "  for i in range(clusters):\n",
        "    plt.scatter(x[i], y[i], label = 'cluster{}'.format(i))\n",
        "  plt.xlabel(str_x)\n",
        "  plt.ylabel(str_y)\n",
        "  plt.title(str(str_x+' vs '+str_y))\n",
        "  plt.legend()"
      ],
      "execution_count": null,
      "outputs": []
    },
    {
      "cell_type": "code",
      "metadata": {
        "colab": {
          "base_uri": "https://localhost:8080/",
          "height": 573
        },
        "id": "YnC73wZB_6u7",
        "outputId": "9951a2f2-b17d-422b-ba52-5cfe37f5155f"
      },
      "source": [
        "plot_clusters('Indians','Foreigners',3)\n",
        "# here green points is near to orange one, it means other feature dimension which we are unable to visualize right now."
      ],
      "execution_count": null,
      "outputs": [
        {
          "output_type": "display_data",
          "data": {
            "image/png": "[encoded data removed]",
            "text/plain": [
              "<Figure size 600x600 with 1 Axes>"
            ]
          },
          "metadata": {
            "tags": [],
            "needs_background": "light"
          }
        }
      ]
    }
  ]
}